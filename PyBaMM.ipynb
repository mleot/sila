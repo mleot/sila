{
 "metadata": {
  "kernelspec": {
   "display_name": "Streamlit Notebook",
   "name": "streamlit"
  }
 },
 "nbformat_minor": 5,
 "nbformat": 4,
 "cells": [
  {
   "cell_type": "code",
   "id": "3775908f-ca36-4846-8f38-5adca39217f2",
   "metadata": {
    "language": "python",
    "name": "create_session",
    "collapsed": false,
    "resultHeight": 44
   },
   "source": "import warnings\nwarnings.filterwarnings(\"ignore\")\n\nfrom snowflake.snowpark.context import get_active_session\nsession = get_active_session()\n\n# Add a query tag to the session. This helps with debugging and performance monitoring.\nsession.query_tag = {\"origin\":\"sf_sit-is\", \"name\":\"aiml_notebooks_container_runtime\", \"version\":{\"major\":1, \"minor\":0}, \"attributes\":{\"is_quickstart\":1, \"source\":\"notebook\"}}\n\n# Set session context \nsession.use_role(\"sysadmin\") \n\n# Print the current role, warehouse, and database/schema\nprint(f\"role: {session.get_current_role()} | WH: {session.get_current_warehouse()} | DB.SCHEMA: {session.get_fully_qualified_current_schema()}\")    ",
   "execution_count": null,
   "outputs": []
  },
  {
   "cell_type": "code",
   "id": "07439dfc-35a6-4b64-b515-94adb9f95097",
   "metadata": {
    "language": "python",
    "name": "pip_install",
    "collapsed": false,
    "resultHeight": 1067
   },
   "outputs": [],
   "source": "!pip install pybamm",
   "execution_count": null
  },
  {
   "cell_type": "code",
   "id": "524bf700-3dac-4008-8617-a35b879ecca9",
   "metadata": {
    "language": "python",
    "name": "import_pybamm",
    "collapsed": false,
    "resultHeight": 0
   },
   "outputs": [],
   "source": "import pybamm",
   "execution_count": null
  },
  {
   "cell_type": "code",
   "id": "b474417a-2b9c-461b-acbf-3b40eca54c5d",
   "metadata": {
    "language": "python",
    "name": "load_model",
    "collapsed": false,
    "resultHeight": 0
   },
   "outputs": [],
   "source": "model = pybamm.lithium_ion.DFN()",
   "execution_count": null
  },
  {
   "cell_type": "code",
   "id": "d8eadd16-d227-448f-86d5-723bee5bbc88",
   "metadata": {
    "language": "python",
    "name": "create_simulation",
    "collapsed": false,
    "resultHeight": 0
   },
   "outputs": [],
   "source": "sim = pybamm.Simulation(model)",
   "execution_count": null
  },
  {
   "cell_type": "code",
   "id": "f95b76f1-49e3-4316-af4a-51dc0bc862bf",
   "metadata": {
    "language": "python",
    "name": "solve_model",
    "resultHeight": 2131
   },
   "outputs": [],
   "source": "sim.solve([0, 3600])",
   "execution_count": null
  },
  {
   "cell_type": "code",
   "id": "6ee5df7e-4ba5-4530-8b7a-b3a5ea443c41",
   "metadata": {
    "language": "python",
    "name": "plot_simulation",
    "collapsed": false,
    "resultHeight": 3137
   },
   "outputs": [],
   "source": "sim.plot()",
   "execution_count": null
  },
  {
   "cell_type": "code",
   "id": "34435e49-5d3a-4ccc-be2e-ded5e67b917e",
   "metadata": {
    "language": "python",
    "name": "list_variables",
    "resultHeight": 224
   },
   "outputs": [],
   "source": "model.variable_names()",
   "execution_count": null
  },
  {
   "cell_type": "code",
   "id": "e41f9a41-4dee-4a25-9f5e-2337b1ea2de5",
   "metadata": {
    "language": "python",
    "name": "plot_variables",
    "collapsed": false,
    "resultHeight": 3248
   },
   "outputs": [],
   "source": "output_variables = [\"Electrolyte concentration [mol.m-3]\", \"Voltage [V]\"]\nsim.plot(output_variables=output_variables)",
   "execution_count": null
  },
  {
   "cell_type": "code",
   "id": "4194ae1f-5fa6-45aa-8d14-70d47897714e",
   "metadata": {
    "language": "python",
    "name": "plot_voltage",
    "collapsed": false,
    "resultHeight": 3032
   },
   "outputs": [],
   "source": "output_variables = [\"Voltage [V]\"]\nsim.plot(output_variables=output_variables)",
   "execution_count": null
  },
  {
   "cell_type": "code",
   "id": "4a6f788e-dbaf-4e60-bd3c-a7f77f6ac3a2",
   "metadata": {
    "language": "python",
    "name": "plot_voltage_components",
    "resultHeight": 826
   },
   "outputs": [],
   "source": "sim.plot_voltage_components()",
   "execution_count": null
  },
  {
   "cell_type": "code",
   "id": "4f40482f-9f01-4ba7-bf43-0369c9c01d1c",
   "metadata": {
    "language": "python",
    "name": "plot_electrode_split",
    "collapsed": false,
    "resultHeight": 829
   },
   "outputs": [],
   "source": "sim.plot_voltage_components(split_by_electrode=True)",
   "execution_count": null
  },
  {
   "cell_type": "code",
   "id": "f47478c9-d2f2-4543-9db7-5ebe502c6a2f",
   "metadata": {
    "language": "python",
    "name": "models_list",
    "collapsed": false,
    "resultHeight": 0
   },
   "outputs": [],
   "source": "models = [\n    pybamm.lithium_ion.SPM(),\n    pybamm.lithium_ion.SPMe(),\n    pybamm.lithium_ion.DFN(),\n]",
   "execution_count": null
  },
  {
   "cell_type": "code",
   "id": "f3cf8f0e-ca82-43d8-88b6-143672467746",
   "metadata": {
    "language": "python",
    "name": "loop_models",
    "collapsed": false,
    "resultHeight": 0
   },
   "outputs": [],
   "source": "sims = []\nfor model in models:\n    sim = pybamm.Simulation(model)\n    sim.solve([0, 3600])\n    sims.append(sim)",
   "execution_count": null
  },
  {
   "cell_type": "code",
   "id": "4e220847-3602-46a2-bc3a-1d873b70eb57",
   "metadata": {
    "language": "python",
    "name": "dynamic_plot",
    "collapsed": false,
    "resultHeight": 3480
   },
   "outputs": [],
   "source": "pybamm.dynamic_plot(sims)",
   "execution_count": null
  }
 ]
}
